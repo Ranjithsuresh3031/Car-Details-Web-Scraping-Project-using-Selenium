{
 "cells": [
  {
   "cell_type": "code",
   "execution_count": 1,
   "id": "9bbb4feb",
   "metadata": {},
   "outputs": [],
   "source": [
    "from selenium import webdriver"
   ]
  },
  {
   "cell_type": "code",
   "execution_count": 46,
   "id": "abc0cf01",
   "metadata": {},
   "outputs": [],
   "source": [
    "driver=webdriver.Edge()"
   ]
  },
  {
   "cell_type": "code",
   "execution_count": 64,
   "id": "1eb7d852",
   "metadata": {},
   "outputs": [],
   "source": [
    "driver.get(\"https://www.cars24.com/buy-used-car?sort=bestmatch&serveWarrantyCount=true&gaId=1561791518.1707724051&storeCityId=2378&pinId=400001\")"
   ]
  },
  {
   "cell_type": "code",
   "execution_count": 65,
   "id": "5b2ea218",
   "metadata": {},
   "outputs": [],
   "source": [
    "import time"
   ]
  },
  {
   "cell_type": "code",
   "execution_count": 66,
   "id": "7f144dee",
   "metadata": {},
   "outputs": [],
   "source": [
    "from bs4 import BeautifulSoup"
   ]
  },
  {
   "cell_type": "code",
   "execution_count": 67,
   "id": "d0f24aa4",
   "metadata": {},
   "outputs": [],
   "source": [
    "Brand=[]\n",
    "Price=[]\n",
    "Fuel=[]\n",
    "Kilometer=[]\n",
    "Transmission=[]"
   ]
  },
  {
   "cell_type": "code",
   "execution_count": 68,
   "id": "e28e5c9d",
   "metadata": {},
   "outputs": [],
   "source": [
    "time.sleep(15)"
   ]
  },
  {
   "cell_type": "code",
   "execution_count": 72,
   "id": "61fadce9",
   "metadata": {},
   "outputs": [],
   "source": [
    "driver.execute_script(\"window.scrollTo(0, document.documentElement.scrollHeight);\")"
   ]
  },
  {
   "cell_type": "code",
   "execution_count": 75,
   "id": "384a2a2c",
   "metadata": {},
   "outputs": [],
   "source": [
    "soup=BeautifulSoup(driver.page_source)"
   ]
  },
  {
   "cell_type": "code",
   "execution_count": 76,
   "id": "0c26a95f",
   "metadata": {},
   "outputs": [],
   "source": [
    "section=soup.find('div',class_=\"_2ujGx\")\n",
    "#section.text"
   ]
  },
  {
   "cell_type": "code",
   "execution_count": 77,
   "id": "fc6b883d",
   "metadata": {},
   "outputs": [],
   "source": [
    "for i in section.find_all('div',class_=\"_2YB7p\"):\n",
    "    Brand.append(i.find('h3',class_=\"_11dVb\").text)\n",
    "    Price.append(i.find('strong',class_=\"_3RL-I\").text)\n",
    "    sec1=i.find('ul',class_=\"_3J2G-\")\n",
    "    Kilometer.append(sec1.find('li').text)\n",
    "    Fuel.append(sec1.find_all('li')[2].text)\n",
    "    Transmission.append(sec1.find_all('li')[4].text)"
   ]
  },
  {
   "cell_type": "code",
   "execution_count": 78,
   "id": "004be845",
   "metadata": {},
   "outputs": [],
   "source": [
    "import pandas as pd"
   ]
  },
  {
   "cell_type": "code",
   "execution_count": 79,
   "id": "76c9d010",
   "metadata": {},
   "outputs": [],
   "source": [
    "df=pd.DataFrame()\n",
    "df[\"brand\"]=Brand\n",
    "df[\"selling price\"]=Price\n",
    "df[\"kilometer\"]=Kilometer\n",
    "df[\"Fuel Type\"]=Fuel\n",
    "df[\"Transmission\"]=Transmission"
   ]
  },
  {
   "cell_type": "code",
   "execution_count": 80,
   "id": "08f81cc8",
   "metadata": {},
   "outputs": [
    {
     "data": {
      "text/html": [
       "<div>\n",
       "<style scoped>\n",
       "    .dataframe tbody tr th:only-of-type {\n",
       "        vertical-align: middle;\n",
       "    }\n",
       "\n",
       "    .dataframe tbody tr th {\n",
       "        vertical-align: top;\n",
       "    }\n",
       "\n",
       "    .dataframe thead th {\n",
       "        text-align: right;\n",
       "    }\n",
       "</style>\n",
       "<table border=\"1\" class=\"dataframe\">\n",
       "  <thead>\n",
       "    <tr style=\"text-align: right;\">\n",
       "      <th></th>\n",
       "      <th>brand</th>\n",
       "      <th>selling price</th>\n",
       "      <th>kilometer</th>\n",
       "      <th>Fuel Type</th>\n",
       "      <th>Transmission</th>\n",
       "    </tr>\n",
       "  </thead>\n",
       "  <tbody>\n",
       "    <tr>\n",
       "      <th>0</th>\n",
       "      <td>2021 Maruti Swift VXI</td>\n",
       "      <td>₹5.94 Lakh</td>\n",
       "      <td>28,286 km</td>\n",
       "      <td>Petrol</td>\n",
       "      <td>Manual</td>\n",
       "    </tr>\n",
       "    <tr>\n",
       "      <th>1</th>\n",
       "      <td>2014 Honda Amaze 1.5L I-DTEC SX</td>\n",
       "      <td>₹3.83 Lakh</td>\n",
       "      <td>1,09,690 km</td>\n",
       "      <td>Diesel</td>\n",
       "      <td>Manual</td>\n",
       "    </tr>\n",
       "    <tr>\n",
       "      <th>2</th>\n",
       "      <td>2014 Toyota Etios V</td>\n",
       "      <td>₹3.93 Lakh</td>\n",
       "      <td>61,614 km</td>\n",
       "      <td>Petrol</td>\n",
       "      <td>Manual</td>\n",
       "    </tr>\n",
       "    <tr>\n",
       "      <th>3</th>\n",
       "      <td>2011 Hyundai i10 SPORTZ 1.2</td>\n",
       "      <td>₹2.52 Lakh</td>\n",
       "      <td>32,786 km</td>\n",
       "      <td>Petrol</td>\n",
       "      <td>Manual</td>\n",
       "    </tr>\n",
       "    <tr>\n",
       "      <th>4</th>\n",
       "      <td>2012 Honda Brio S MT</td>\n",
       "      <td>₹2.45 Lakh</td>\n",
       "      <td>62,948 km</td>\n",
       "      <td>Petrol</td>\n",
       "      <td>Manual</td>\n",
       "    </tr>\n",
       "    <tr>\n",
       "      <th>...</th>\n",
       "      <td>...</td>\n",
       "      <td>...</td>\n",
       "      <td>...</td>\n",
       "      <td>...</td>\n",
       "      <td>...</td>\n",
       "    </tr>\n",
       "    <tr>\n",
       "      <th>772</th>\n",
       "      <td>2021 Maruti Celerio VXI (O) CNG</td>\n",
       "      <td>₹5.03 Lakh</td>\n",
       "      <td>58,709 km</td>\n",
       "      <td>CNG</td>\n",
       "      <td>Manual</td>\n",
       "    </tr>\n",
       "    <tr>\n",
       "      <th>773</th>\n",
       "      <td>2017 Hyundai Creta SX PLUS 1.6 DIESEL</td>\n",
       "      <td>₹9.21 Lakh</td>\n",
       "      <td>42,819 km</td>\n",
       "      <td>Diesel</td>\n",
       "      <td>Manual</td>\n",
       "    </tr>\n",
       "    <tr>\n",
       "      <th>774</th>\n",
       "      <td>2016 Maruti Baleno ZETA CVT PETROL 1.2</td>\n",
       "      <td>₹5.44 Lakh</td>\n",
       "      <td>33,818 km</td>\n",
       "      <td>Petrol</td>\n",
       "      <td>Automatic</td>\n",
       "    </tr>\n",
       "    <tr>\n",
       "      <th>775</th>\n",
       "      <td>2019 Tata Tiago XZA PLUS PETROL</td>\n",
       "      <td>₹5.73 Lakh</td>\n",
       "      <td>42,876 km</td>\n",
       "      <td>Petrol</td>\n",
       "      <td>Automatic</td>\n",
       "    </tr>\n",
       "    <tr>\n",
       "      <th>776</th>\n",
       "      <td>2016 Hyundai Grand i10 SPORTZ 1.2 KAPPA VTVT</td>\n",
       "      <td>₹4.39 Lakh</td>\n",
       "      <td>13,996 km</td>\n",
       "      <td>Petrol</td>\n",
       "      <td>Manual</td>\n",
       "    </tr>\n",
       "  </tbody>\n",
       "</table>\n",
       "<p>777 rows × 5 columns</p>\n",
       "</div>"
      ],
      "text/plain": [
       "                                            brand selling price    kilometer  \\\n",
       "0                           2021 Maruti Swift VXI    ₹5.94 Lakh    28,286 km   \n",
       "1                 2014 Honda Amaze 1.5L I-DTEC SX    ₹3.83 Lakh  1,09,690 km   \n",
       "2                             2014 Toyota Etios V    ₹3.93 Lakh    61,614 km   \n",
       "3                     2011 Hyundai i10 SPORTZ 1.2    ₹2.52 Lakh    32,786 km   \n",
       "4                            2012 Honda Brio S MT    ₹2.45 Lakh    62,948 km   \n",
       "..                                            ...           ...          ...   \n",
       "772               2021 Maruti Celerio VXI (O) CNG    ₹5.03 Lakh    58,709 km   \n",
       "773         2017 Hyundai Creta SX PLUS 1.6 DIESEL    ₹9.21 Lakh    42,819 km   \n",
       "774        2016 Maruti Baleno ZETA CVT PETROL 1.2    ₹5.44 Lakh    33,818 km   \n",
       "775               2019 Tata Tiago XZA PLUS PETROL    ₹5.73 Lakh    42,876 km   \n",
       "776  2016 Hyundai Grand i10 SPORTZ 1.2 KAPPA VTVT    ₹4.39 Lakh    13,996 km   \n",
       "\n",
       "    Fuel Type Transmission  \n",
       "0      Petrol       Manual  \n",
       "1      Diesel       Manual  \n",
       "2      Petrol       Manual  \n",
       "3      Petrol       Manual  \n",
       "4      Petrol       Manual  \n",
       "..        ...          ...  \n",
       "772       CNG       Manual  \n",
       "773    Diesel       Manual  \n",
       "774    Petrol    Automatic  \n",
       "775    Petrol    Automatic  \n",
       "776    Petrol       Manual  \n",
       "\n",
       "[777 rows x 5 columns]"
      ]
     },
     "execution_count": 80,
     "metadata": {},
     "output_type": "execute_result"
    }
   ],
   "source": [
    "df"
   ]
  },
  {
   "cell_type": "code",
   "execution_count": 81,
   "id": "2a387422",
   "metadata": {},
   "outputs": [],
   "source": [
    "df.to_csv('Mumbai.csv')"
   ]
  },
  {
   "cell_type": "code",
   "execution_count": null,
   "id": "72b6e63b",
   "metadata": {},
   "outputs": [],
   "source": []
  }
 ],
 "metadata": {
  "kernelspec": {
   "display_name": "Python 3 (ipykernel)",
   "language": "python",
   "name": "python3"
  },
  "language_info": {
   "codemirror_mode": {
    "name": "ipython",
    "version": 3
   },
   "file_extension": ".py",
   "mimetype": "text/x-python",
   "name": "python",
   "nbconvert_exporter": "python",
   "pygments_lexer": "ipython3",
   "version": "3.11.5"
  }
 },
 "nbformat": 4,
 "nbformat_minor": 5
}
